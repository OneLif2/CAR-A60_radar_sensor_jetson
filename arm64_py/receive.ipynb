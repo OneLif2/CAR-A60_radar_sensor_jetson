{
 "cells": [
  {
   "cell_type": "code",
   "execution_count": 1,
   "metadata": {},
   "outputs": [
    {
     "name": "stdout",
     "output_type": "stream",
     "text": [
      "{'Objects_ID': 87, 'Objects_DistLong': 4.0, 'Objects_Distlat': 2.6000000000000227, 'Objects_VrelLong': -0.75, 'Objects_VrelLat': 0.0, 'Objects_DynProp': 0, 'Objects_RCS': 0.0}\n"
     ]
    }
   ],
   "source": [
    "def extract_target_information_hex(message):\n",
    "    \"\"\"\n",
    "    Extracts the target information from a given message in hexadecimal format.\n",
    "    \n",
    "    Args:\n",
    "    message (str): A string representing the message in hexadecimal format.\n",
    "\n",
    "    Returns:\n",
    "    dict: A dictionary containing extracted target information.\n",
    "    \"\"\"\n",
    "    # Converting the message string into an array of integers\n",
    "    int_arr = [int(byte, 16) for byte in message.split()]\n",
    "\n",
    "    # Extracting data according to the provided formula\n",
    "    objects_id = int_arr[0]\n",
    "    objects_dist_long = (int_arr[1] * 32 + (int_arr[2] >> 3)) * 0.2 - 500\n",
    "    objects_dist_lat = ((int_arr[2] & 0x07) * 256 + int_arr[3]) * 0.2 - 204.6\n",
    "    objects_vrel_long = (int_arr[4] * 4 + (int_arr[5] >> 6)) * 0.25 - 128\n",
    "    objects_vrel_lat = ((int_arr[5] & 0x3F) * 8 + (int_arr[6] >> 5)) * 0.25 - 64\n",
    "    objects_dyn_prop = int_arr[6] & 0x07\n",
    "    objects_rcs = int_arr[7] * 0.5 - 64\n",
    "\n",
    "    return {\n",
    "        \"Objects_ID\": objects_id,\n",
    "        \"Objects_DistLong\": objects_dist_long,\n",
    "        \"Objects_Distlat\": objects_dist_lat,\n",
    "        \"Objects_VrelLong\": objects_vrel_long,\n",
    "        \"Objects_VrelLat\": objects_vrel_lat,\n",
    "        \"Objects_DynProp\": objects_dyn_prop,\n",
    "        \"Objects_RCS\": objects_rcs\n",
    "    }\n",
    "\n",
    "# Example message\n",
    "message_hex = \"0x57 0x4E 0xC4 0x0C 0x7F 0x60 0x00 0x80\"\n",
    "extracted_data_hex = extract_target_information_hex(message_hex)\n",
    "print(extracted_data_hex)"
   ]
  }
 ],
 "metadata": {
  "kernelspec": {
   "display_name": "Python 3",
   "language": "python",
   "name": "python3"
  },
  "language_info": {
   "codemirror_mode": {
    "name": "ipython",
    "version": 3
   },
   "file_extension": ".py",
   "mimetype": "text/x-python",
   "name": "python",
   "nbconvert_exporter": "python",
   "pygments_lexer": "ipython3",
   "version": "3.8.10"
  }
 },
 "nbformat": 4,
 "nbformat_minor": 2
}
